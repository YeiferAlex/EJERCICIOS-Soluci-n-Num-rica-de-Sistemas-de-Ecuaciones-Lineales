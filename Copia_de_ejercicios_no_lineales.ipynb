{
  "nbformat": 4,
  "nbformat_minor": 0,
  "metadata": {
    "colab": {
      "provenance": [],
      "include_colab_link": true
    },
    "kernelspec": {
      "name": "python3",
      "display_name": "Python 3"
    },
    "language_info": {
      "name": "python"
    }
  },
  "cells": [
    {
      "cell_type": "markdown",
      "metadata": {
        "id": "view-in-github",
        "colab_type": "text"
      },
      "source": [
        "<a href=\"https://colab.research.google.com/github/YeiferAlex/EJERCICIOS-Soluci-n-Num-rica-de-Sistemas-de-Ecuaciones-Lineales/blob/main/Copia_de_ejercicios_no_lineales.ipynb\" target=\"_parent\"><img src=\"https://colab.research.google.com/assets/colab-badge.svg\" alt=\"Open In Colab\"/></a>"
      ]
    },
    {
      "cell_type": "markdown",
      "source": [
        "ejercicio 1 eliminacion de gauss\n",
        "-planteamiento 1"
      ],
      "metadata": {
        "id": "LF-ORDw7nQ8O"
      }
    },
    {
      "cell_type": "code",
      "execution_count": null,
      "metadata": {
        "colab": {
          "base_uri": "https://localhost:8080/"
        },
        "id": "Vpow5WtBm8eD",
        "outputId": "1337171d-9792-4329-8e45-daf4db50f1c8"
      },
      "outputs": [
        {
          "output_type": "stream",
          "name": "stdout",
          "text": [
            "solucion del sistema: \n",
            "x=-1.3000,y= 0.4000,z=1.9000\n"
          ]
        }
      ],
      "source": [
        "import numpy as np\n",
        "\n",
        "A=np.array([[2,3,1],\n",
        "           [4,1,2],\n",
        "           [3,4,2]], dtype=float)\n",
        "\n",
        "b=np.array([0.5,-1.0,1.5], dtype=float)\n",
        "sol=np.linalg.solve(A,b)\n",
        "\n",
        "print(\"solucion del sistema: \")\n",
        "print(f\"x={sol[0]:.4f},y= {sol[1]:.4f},z={sol[2]:.4f}\")"
      ]
    },
    {
      "cell_type": "markdown",
      "source": [
        "planteamiento 2"
      ],
      "metadata": {
        "id": "QccrvXQEoJbd"
      }
    },
    {
      "cell_type": "code",
      "source": [
        "import numpy as np\n",
        "\n",
        "A=np.array([[3,-0.1,-0.2],\n",
        "           [0.1,0.7,-0.3],\n",
        "           [0.3,-0.2,10]], dtype=float)\n",
        "\n",
        "b=np.array([7.85,-19.3,71.4], dtype=float)\n",
        "sol=np.linalg.solve(A,b)\n",
        "\n",
        "print(\"solucion del sistema: \")\n",
        "print(f\"x={sol[0]:.4f},y= {sol[1]:.4f},z={sol[2]:.4f}\")"
      ],
      "metadata": {
        "colab": {
          "base_uri": "https://localhost:8080/"
        },
        "id": "7qugmIrtoFII",
        "outputId": "6567c1bd-7af9-40fa-b2ac-2f00518761a3"
      },
      "execution_count": null,
      "outputs": [
        {
          "output_type": "stream",
          "name": "stdout",
          "text": [
            "solucion del sistema: \n",
            "x=2.2191,y= -25.0719,z=6.5720\n"
          ]
        }
      ]
    },
    {
      "cell_type": "markdown",
      "source": [
        "ejercicio 2 matriz inversa"
      ],
      "metadata": {
        "id": "qZIVHzYlpN3W"
      }
    },
    {
      "cell_type": "code",
      "source": [
        "# Matriz de coeficientes\n",
        "A = np.array([[3,-0.1,-0.2],\n",
        "              [0.1,0.7,-0.3],\n",
        "              [0.3,-0.2,10]], dtype=float)\n",
        "\n",
        "# Vector de salida deseada\n",
        "b = np.array([7.85,-19.3,71.4], dtype=float)\n",
        "\n",
        "# Calcular la matriz inversa\n",
        "A_inv = np.linalg.inv(A)\n",
        "\n",
        "# Multiplicar A_inv por el vector b\n",
        "sol = np.dot(A_inv, b)\n",
        "\n",
        "# Mostrar la solución\n",
        "print(\"Pesos ajustados:\")\n",
        "print(f\"w1 = {sol[0]:.4f}, w2 = {sol[1]:.4f}, w3 = {sol[2]:.4f}\")\n"
      ],
      "metadata": {
        "colab": {
          "base_uri": "https://localhost:8080/"
        },
        "id": "iTC4fRbLpcDN",
        "outputId": "acdf7539-8e7c-45f1-9da8-1b67adda0f48"
      },
      "execution_count": null,
      "outputs": [
        {
          "output_type": "stream",
          "name": "stdout",
          "text": [
            "Pesos ajustados:\n",
            "w1 = 2.2191, w2 = -25.0719, w3 = 6.5720\n"
          ]
        }
      ]
    },
    {
      "cell_type": "markdown",
      "source": [
        "ejercicio 3 metodo de jacobi"
      ],
      "metadata": {
        "id": "NCHIw538qs6i"
      }
    },
    {
      "cell_type": "code",
      "source": [
        "def jacobi(A, b, x0, tol=1e-10, max_iter=1000):\n",
        "    n = len(b)\n",
        "    x = x0\n",
        "    for k in range(max_iter):\n",
        "        x_new = np.zeros_like(x)\n",
        "        for i in range(n):\n",
        "            s = sum(A[i][j] * x[j] for j in range(n) if i != j)\n",
        "            x_new[i] = (b[i] - s) / A[i][i]\n",
        "        if np.linalg.norm(x_new - x, ord=np.inf) < tol:\n",
        "            return x_new\n",
        "        x = x_new\n",
        "    return x\n",
        "\n",
        "# Matriz de coeficientes\n",
        "A = np.array([[10, -1, 2],\n",
        "              [-1, 11, -1],\n",
        "              [2, -1, 10]], dtype=float)\n",
        "\n",
        "# Vector de errores\n",
        "b = np.array([0.6, 1.5, 2.1], dtype=float)\n",
        "\n",
        "# Aproximación inicial\n",
        "x0 = np.zeros_like(b)\n",
        "\n",
        "# Aplicar el método de Jacobi\n",
        "sol = jacobi(A, b, x0)\n",
        "print(\"Pesos ajustados usando Jacobi:\")\n",
        "print(sol)\n"
      ],
      "metadata": {
        "id": "-lxdB01vrAdO",
        "outputId": "9f38a1fc-1c7a-494c-c1ed-50640a073509",
        "colab": {
          "base_uri": "https://localhost:8080/"
        }
      },
      "execution_count": null,
      "outputs": [
        {
          "output_type": "stream",
          "name": "stdout",
          "text": [
            "Pesos ajustados usando Jacobi:\n",
            "[0.03201923 0.15923077 0.21951923]\n"
          ]
        }
      ]
    },
    {
      "cell_type": "markdown",
      "source": [
        "Ejercicio 4: Método Iterativo de Gauss-Seidel"
      ],
      "metadata": {
        "id": "vMxoYXXKrT6a"
      }
    },
    {
      "cell_type": "code",
      "source": [
        "import numpy as np\n",
        "\n",
        "def gauss_seidel(A, b, x0, tol=1e-10, max_iter=1000):\n",
        "    n = len(b)\n",
        "    x = x0\n",
        "    for k in range(max_iter):\n",
        "        x_new = np.copy(x)\n",
        "        for i in range(n):\n",
        "            s1 = sum(A[i][j] * x_new[j] for j in range(i))\n",
        "            s2 = sum(A[i][j] * x[j] for j in range(i+1, n))\n",
        "            x_new[i] = (b[i] - s1 - s2) / A[i][i]\n",
        "        if np.linalg.norm(x_new - x, ord=np.inf) < tol:\n",
        "            return x_new, k\n",
        "        x = x_new\n",
        "    return x, max_iter\n",
        "\n",
        "# Matriz de coeficientes\n",
        "A = np.array([[10, -1, 2 ],\n",
        "              [-1, 11, -1],\n",
        "              [2, -1, 10]\n",
        "              ], dtype=float)\n",
        "\n",
        "# Vector de términos independientes\n",
        "b = np.array([5,6,7], dtype=float)\n",
        "\n",
        "# Valor inicial de las incógnitas\n",
        "x0 = np.zeros_like(b)\n",
        "\n",
        "# Resolver el sistema usando el método de Gauss-Seidel\n",
        "sol, iteraciones = gauss_seidel(A, b, x0)\n",
        "\n",
        "# Mostrar la solución y el número de iteraciones\n",
        "print(\"Solución del sistema:\")\n",
        "print(sol)\n",
        "print(f\"Número de iteraciones: {iteraciones}\")\n"
      ],
      "metadata": {
        "id": "4ovVM1uErSAe",
        "colab": {
          "base_uri": "https://localhost:8080/"
        },
        "outputId": "f41ded14-ba0e-4feb-a447-75204f6f953e"
      },
      "execution_count": null,
      "outputs": [
        {
          "output_type": "stream",
          "name": "stdout",
          "text": [
            "Solución del sistema:\n",
            "[0.42884615 0.64615385 0.67884615]\n",
            "Número de iteraciones: 8\n"
          ]
        }
      ]
    },
    {
      "cell_type": "markdown",
      "source": [
        "ejercicio 5 descomposicion cholesky"
      ],
      "metadata": {
        "id": "5b1S2dBMsSw0"
      }
    },
    {
      "cell_type": "code",
      "source": [
        "from scipy.linalg import cholesky\n",
        "\n",
        "# Matriz y vector\n",
        "A = np.array([[25,15,-5],\n",
        "              [15,18,0],\n",
        "              [-5,0,11]], dtype=float)\n",
        "\n",
        "b = np.array([350,400,200], dtype=float)\n",
        "# Descomposición de Cholesky\n",
        "L = cholesky(A, lower=True)\n",
        "\n",
        "# Resolver Ly = b\n",
        "y = np.linalg.solve(L, b)\n",
        "\n",
        "# Resolver L^T x = y\n",
        "x = np.linalg.solve(L.T, y)\n",
        "\n",
        "print(\"Pesos ajustados usando Cholesky:\")\n",
        "print(x)\n"
      ],
      "metadata": {
        "colab": {
          "base_uri": "https://localhost:8080/"
        },
        "id": "DaMzWgbKsbhB",
        "outputId": "5cd36d9f-81a7-41e7-fc0b-27f47ba15b76"
      },
      "execution_count": null,
      "outputs": [
        {
          "output_type": "stream",
          "name": "stdout",
          "text": [
            "Pesos ajustados usando Cholesky:\n",
            "[10.51851852 13.45679012 22.96296296]\n"
          ]
        }
      ]
    }
  ]
}